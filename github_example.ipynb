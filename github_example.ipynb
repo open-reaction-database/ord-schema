{
  "nbformat": 4,
  "nbformat_minor": 0,
  "metadata": {
    "colab": {
      "name": "github_example.ipynb",
      "provenance": [],
      "collapsed_sections": [],
      "include_colab_link": true
    },
    "kernelspec": {
      "name": "python3",
      "display_name": "Python 3"
    }
  },
  "cells": [
    {
      "cell_type": "markdown",
      "metadata": {
        "id": "view-in-github",
        "colab_type": "text"
      },
      "source": [
        "<a href=\"https://colab.research.google.com/github/skearnes/ord-schema/blob/notebook/github_example.ipynb\" target=\"_parent\"><img src=\"https://colab.research.google.com/assets/colab-badge.svg\" alt=\"Open In Colab\"/></a>"
      ]
    },
    {
      "cell_type": "code",
      "metadata": {
        "id": "FkGs9wsG6hbC",
        "colab_type": "code",
        "outputId": "42185d79-fcff-4f0f-b3a3-dc72ca5bb047",
        "colab": {
          "base_uri": "https://localhost:8080/",
          "height": 1000
        }
      },
      "source": [
        "!git clone https://github.com/Open-Reaction-Database/ord-schema.git\n",
        "%cd ord-schema\n",
        "!git pull\n",
        "!python setup.py build_py\n",
        "!python setup.py install"
      ],
      "execution_count": 1,
      "outputs": [
        {
          "output_type": "stream",
          "text": [
            "Cloning into 'ord-schema'...\n",
            "remote: Enumerating objects: 125, done.\u001b[K\n",
            "remote: Counting objects: 100% (125/125), done.\u001b[K\n",
            "remote: Compressing objects: 100% (91/91), done.\u001b[K\n",
            "remote: Total 8467 (delta 48), reused 66 (delta 20), pack-reused 8342\u001b[K\n",
            "Receiving objects: 100% (8467/8467), 69.70 MiB | 31.75 MiB/s, done.\n",
            "Resolving deltas: 100% (2254/2254), done.\n",
            "/content/ord-schema\n",
            "Already up to date.\n",
            "running build_py\n",
            "creating build\n",
            "creating build/lib\n",
            "creating build/lib/ord_schema\n",
            "copying ord_schema/validations_test.py -> build/lib/ord_schema\n",
            "copying ord_schema/units.py -> build/lib/ord_schema\n",
            "copying ord_schema/__init__.py -> build/lib/ord_schema\n",
            "copying ord_schema/message_helpers.py -> build/lib/ord_schema\n",
            "copying ord_schema/message_helpers_test.py -> build/lib/ord_schema\n",
            "copying ord_schema/validations.py -> build/lib/ord_schema\n",
            "copying ord_schema/units_test.py -> build/lib/ord_schema\n",
            "creating build/lib/ord_schema/proto\n",
            "copying ord_schema/proto/json_schema_test.py -> build/lib/ord_schema/proto\n",
            "copying ord_schema/proto/reaction_pb2.py -> build/lib/ord_schema/proto\n",
            "copying ord_schema/proto/reaction_pb2_test.py -> build/lib/ord_schema/proto\n",
            "copying ord_schema/proto/__init__.py -> build/lib/ord_schema/proto\n",
            "copying ord_schema/proto/test_pb2.py -> build/lib/ord_schema/proto\n",
            "copying ord_schema/proto/bq_schema_test.py -> build/lib/ord_schema/proto\n",
            "copying ord_schema/proto/bq_schema.py -> build/lib/ord_schema/proto\n",
            "copying ord_schema/proto/json_schema.py -> build/lib/ord_schema/proto\n",
            "copying ord_schema/proto/proto_to_json_test.py -> build/lib/ord_schema/proto\n",
            "copying ord_schema/proto/proto_to_json.py -> build/lib/ord_schema/proto\n",
            "running install\n",
            "running bdist_egg\n",
            "running egg_info\n",
            "creating ord_schema.egg-info\n",
            "writing ord_schema.egg-info/PKG-INFO\n",
            "writing dependency_links to ord_schema.egg-info/dependency_links.txt\n",
            "writing top-level names to ord_schema.egg-info/top_level.txt\n",
            "writing manifest file 'ord_schema.egg-info/SOURCES.txt'\n",
            "writing manifest file 'ord_schema.egg-info/SOURCES.txt'\n",
            "installing library code to build/bdist.linux-x86_64/egg\n",
            "running install_lib\n",
            "running build_py\n",
            "copying ord_schema/proto/reaction_pb2.py -> build/lib/ord_schema/proto\n",
            "copying ord_schema/proto/test_pb2.py -> build/lib/ord_schema/proto\n",
            "creating build/bdist.linux-x86_64\n",
            "creating build/bdist.linux-x86_64/egg\n",
            "creating build/bdist.linux-x86_64/egg/ord_schema\n",
            "copying build/lib/ord_schema/validations_test.py -> build/bdist.linux-x86_64/egg/ord_schema\n",
            "copying build/lib/ord_schema/units.py -> build/bdist.linux-x86_64/egg/ord_schema\n",
            "copying build/lib/ord_schema/__init__.py -> build/bdist.linux-x86_64/egg/ord_schema\n",
            "copying build/lib/ord_schema/message_helpers.py -> build/bdist.linux-x86_64/egg/ord_schema\n",
            "copying build/lib/ord_schema/message_helpers_test.py -> build/bdist.linux-x86_64/egg/ord_schema\n",
            "copying build/lib/ord_schema/validations.py -> build/bdist.linux-x86_64/egg/ord_schema\n",
            "copying build/lib/ord_schema/units_test.py -> build/bdist.linux-x86_64/egg/ord_schema\n",
            "creating build/bdist.linux-x86_64/egg/ord_schema/proto\n",
            "copying build/lib/ord_schema/proto/json_schema_test.py -> build/bdist.linux-x86_64/egg/ord_schema/proto\n",
            "copying build/lib/ord_schema/proto/reaction_pb2.py -> build/bdist.linux-x86_64/egg/ord_schema/proto\n",
            "copying build/lib/ord_schema/proto/reaction_pb2_test.py -> build/bdist.linux-x86_64/egg/ord_schema/proto\n",
            "copying build/lib/ord_schema/proto/__init__.py -> build/bdist.linux-x86_64/egg/ord_schema/proto\n",
            "copying build/lib/ord_schema/proto/test_pb2.py -> build/bdist.linux-x86_64/egg/ord_schema/proto\n",
            "copying build/lib/ord_schema/proto/bq_schema_test.py -> build/bdist.linux-x86_64/egg/ord_schema/proto\n",
            "copying build/lib/ord_schema/proto/bq_schema.py -> build/bdist.linux-x86_64/egg/ord_schema/proto\n",
            "copying build/lib/ord_schema/proto/json_schema.py -> build/bdist.linux-x86_64/egg/ord_schema/proto\n",
            "copying build/lib/ord_schema/proto/proto_to_json_test.py -> build/bdist.linux-x86_64/egg/ord_schema/proto\n",
            "copying build/lib/ord_schema/proto/proto_to_json.py -> build/bdist.linux-x86_64/egg/ord_schema/proto\n",
            "byte-compiling build/bdist.linux-x86_64/egg/ord_schema/validations_test.py to validations_test.cpython-36.pyc\n",
            "byte-compiling build/bdist.linux-x86_64/egg/ord_schema/units.py to units.cpython-36.pyc\n",
            "byte-compiling build/bdist.linux-x86_64/egg/ord_schema/__init__.py to __init__.cpython-36.pyc\n",
            "byte-compiling build/bdist.linux-x86_64/egg/ord_schema/message_helpers.py to message_helpers.cpython-36.pyc\n",
            "byte-compiling build/bdist.linux-x86_64/egg/ord_schema/message_helpers_test.py to message_helpers_test.cpython-36.pyc\n",
            "byte-compiling build/bdist.linux-x86_64/egg/ord_schema/validations.py to validations.cpython-36.pyc\n",
            "byte-compiling build/bdist.linux-x86_64/egg/ord_schema/units_test.py to units_test.cpython-36.pyc\n",
            "byte-compiling build/bdist.linux-x86_64/egg/ord_schema/proto/json_schema_test.py to json_schema_test.cpython-36.pyc\n",
            "byte-compiling build/bdist.linux-x86_64/egg/ord_schema/proto/reaction_pb2.py to reaction_pb2.cpython-36.pyc\n",
            "byte-compiling build/bdist.linux-x86_64/egg/ord_schema/proto/reaction_pb2_test.py to reaction_pb2_test.cpython-36.pyc\n",
            "byte-compiling build/bdist.linux-x86_64/egg/ord_schema/proto/__init__.py to __init__.cpython-36.pyc\n",
            "byte-compiling build/bdist.linux-x86_64/egg/ord_schema/proto/test_pb2.py to test_pb2.cpython-36.pyc\n",
            "byte-compiling build/bdist.linux-x86_64/egg/ord_schema/proto/bq_schema_test.py to bq_schema_test.cpython-36.pyc\n",
            "byte-compiling build/bdist.linux-x86_64/egg/ord_schema/proto/bq_schema.py to bq_schema.cpython-36.pyc\n",
            "byte-compiling build/bdist.linux-x86_64/egg/ord_schema/proto/json_schema.py to json_schema.cpython-36.pyc\n",
            "byte-compiling build/bdist.linux-x86_64/egg/ord_schema/proto/proto_to_json_test.py to proto_to_json_test.cpython-36.pyc\n",
            "byte-compiling build/bdist.linux-x86_64/egg/ord_schema/proto/proto_to_json.py to proto_to_json.cpython-36.pyc\n",
            "creating build/bdist.linux-x86_64/egg/EGG-INFO\n",
            "copying ord_schema.egg-info/PKG-INFO -> build/bdist.linux-x86_64/egg/EGG-INFO\n",
            "copying ord_schema.egg-info/SOURCES.txt -> build/bdist.linux-x86_64/egg/EGG-INFO\n",
            "copying ord_schema.egg-info/dependency_links.txt -> build/bdist.linux-x86_64/egg/EGG-INFO\n",
            "copying ord_schema.egg-info/top_level.txt -> build/bdist.linux-x86_64/egg/EGG-INFO\n",
            "zip_safe flag not set; analyzing archive contents...\n",
            "creating dist\n",
            "creating 'dist/ord_schema-0.1-py3.6.egg' and adding 'build/bdist.linux-x86_64/egg' to it\n",
            "removing 'build/bdist.linux-x86_64/egg' (and everything under it)\n",
            "Processing ord_schema-0.1-py3.6.egg\n",
            "Copying ord_schema-0.1-py3.6.egg to /usr/local/lib/python3.6/dist-packages\n",
            "Adding ord-schema 0.1 to easy-install.pth file\n",
            "\n",
            "Installed /usr/local/lib/python3.6/dist-packages/ord_schema-0.1-py3.6.egg\n",
            "Processing dependencies for ord-schema==0.1\n",
            "Finished processing dependencies for ord-schema==0.1\n"
          ],
          "name": "stdout"
        }
      ]
    },
    {
      "cell_type": "code",
      "metadata": {
        "id": "WNYlhmmX64wp",
        "colab_type": "code",
        "colab": {}
      },
      "source": [
        "from ord_schema.proto import reaction_pb2\n",
        "from ord_schema.units import UnitResolver\n",
        "from ord_schema import validations\n",
        "from ord_schema import message_helpers\n",
        "\n",
        "unit_resolver = UnitResolver()"
      ],
      "execution_count": 0,
      "outputs": []
    },
    {
      "cell_type": "code",
      "metadata": {
        "id": "kX_Pp3fA7UWB",
        "colab_type": "code",
        "colab": {}
      },
      "source": [
        "reaction = reaction_pb2.Reaction()"
      ],
      "execution_count": 0,
      "outputs": []
    },
    {
      "cell_type": "code",
      "metadata": {
        "id": "MMhWUQYCOpuK",
        "colab_type": "code",
        "outputId": "aa04f83e-21b3-4e7b-959c-e42fc3d76630",
        "colab": {
          "base_uri": "https://localhost:8080/",
          "height": 85
        }
      },
      "source": [
        "reaction.identifiers.add(value=r'deoxyfluorination', type='NAME')\n",
        "reaction"
      ],
      "execution_count": 0,
      "outputs": [
        {
          "output_type": "execute_result",
          "data": {
            "text/plain": [
              "identifiers {\n",
              "  type: NAME\n",
              "  value: \"deoxyfluorination\"\n",
              "}"
            ]
          },
          "metadata": {
            "tags": []
          },
          "execution_count": 8
        }
      ]
    }
  ]
}