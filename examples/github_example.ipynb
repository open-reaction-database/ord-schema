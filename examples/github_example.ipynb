{
  "nbformat": 4,
  "nbformat_minor": 0,
  "metadata": {
    "colab": {
      "name": "github_example.ipynb",
      "provenance": [],
      "collapsed_sections": []
    },
    "kernelspec": {
      "name": "python3",
      "display_name": "Python 3"
    }
  },
  "cells": [
    {
      "cell_type": "markdown",
      "metadata": {
        "colab_type": "text",
        "id": "UuYMhx3e-xlw"
      },
      "source": [
        "[![Open In Colab](https://colab.research.google.com/assets/colab-badge.svg)](https://colab.research.google.com/github/Open-Reaction-Database/ord-schema/blob/master/examples/github_example.ipynb)"
      ]
    },
    {
      "cell_type": "code",
      "metadata": {
        "id": "FkGs9wsG6hbC",
        "colab_type": "code",
        "colab": {}
      },
      "source": [
        "!git clone https://github.com/Open-Reaction-Database/ord-schema.git\n",
        "%cd ord-schema\n",
        "!git pull\n",
        "!python setup.py build_py\n",
        "!python setup.py install"
      ],
      "execution_count": 0,
      "outputs": []
    },
    {
      "cell_type": "code",
      "metadata": {
        "id": "WNYlhmmX64wp",
        "colab_type": "code",
        "colab": {}
      },
      "source": [
        "from ord_schema.proto import reaction_pb2\n",
        "from ord_schema.units import UnitResolver\n",
        "from ord_schema import validations\n",
        "from ord_schema import message_helpers\n",
        "\n",
        "unit_resolver = UnitResolver()"
      ],
      "execution_count": 0,
      "outputs": []
    },
    {
      "cell_type": "code",
      "metadata": {
        "id": "kX_Pp3fA7UWB",
        "colab_type": "code",
        "colab": {}
      },
      "source": [
        "reaction = reaction_pb2.Reaction()"
      ],
      "execution_count": 0,
      "outputs": []
    },
    {
      "cell_type": "code",
      "metadata": {
        "id": "MMhWUQYCOpuK",
        "colab_type": "code",
        "outputId": "aa04f83e-21b3-4e7b-959c-e42fc3d76630",
        "colab": {
          "base_uri": "https://localhost:8080/",
          "height": 85
        }
      },
      "source": [
        "reaction.identifiers.add(value=r'deoxyfluorination', type='NAME')\n",
        "reaction"
      ],
      "execution_count": 0,
      "outputs": [
        {
          "output_type": "execute_result",
          "data": {
            "text/plain": [
              "identifiers {\n",
              "  type: NAME\n",
              "  value: \"deoxyfluorination\"\n",
              "}"
            ]
          },
          "metadata": {
            "tags": []
          },
          "execution_count": 8
        }
      ]
    }
  ]
}