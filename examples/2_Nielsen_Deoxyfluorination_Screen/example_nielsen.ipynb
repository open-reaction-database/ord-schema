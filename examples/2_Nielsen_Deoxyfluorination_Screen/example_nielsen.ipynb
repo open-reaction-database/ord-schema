{
  "nbformat": 4,
  "nbformat_minor": 0,
  "metadata": {
    "colab": {
      "name": "example_nielsen.ipynb",
      "provenance": [],
      "collapsed_sections": []
    },
    "kernelspec": {
      "name": "python3",
      "display_name": "Python 3"
    }
  },
  "cells": [
    {
      "cell_type": "markdown",
      "metadata": {
        "id": "LcO5BFI4I7HB",
        "colab_type": "text"
      },
      "source": [
        "# Deoxyfluorination with Sulfonyl Fluorides: Navigating Reaction Space with Machine Learning\n",
        "\n",
        "DOI: 10.1021/jacs.8b01523\n",
        "\n",
        "J. Am. Chem. Soc. 2018, 140, 5004−5008\n",
        "\n",
        "## Defining protos for reaction data in Figure 1"
      ]
    },
    {
      "cell_type": "markdown",
      "metadata": {
        "id": "FkGs9wsG6hbC",
        "colab_type": "text"
      },
      "source": [
        "Colab set-up: install schema"
      ]
    },
    {
      "cell_type": "code",
      "metadata": {
        "id": "kqbqnfM06xsH",
        "colab_type": "code",
        "colab": {}
      },
      "source": [
        "try:\n",
        "  import ord_schema\n",
        "except:\n",
        "  !git clone https://github.com/Open-Reaction-Database/ord-schema.git\n",
        "  %cd ord-schema\n",
        "  !git pull\n",
        "  !python setup.py build_py\n",
        "  !python setup.py install"
      ],
      "execution_count": 0,
      "outputs": []
    },
    {
      "cell_type": "markdown",
      "metadata": {
        "id": "QpV2Y-uBQJog",
        "colab_type": "text"
      },
      "source": [
        "Import schema and helper functions"
      ]
    },
    {
      "cell_type": "code",
      "metadata": {
        "id": "WNYlhmmX64wp",
        "colab_type": "code",
        "colab": {}
      },
      "source": [
        "from datetime import datetime\n",
        "from ord_schema.proto import reaction_pb2\n",
        "from ord_schema.units import UnitResolver\n",
        "from ord_schema.validations import validate_message\n",
        "from ord_schema.message_helpers import build_compound, build_binary_data\n",
        "\n",
        "unit_resolver = UnitResolver()"
      ],
      "execution_count": 0,
      "outputs": []
    },
    {
      "cell_type": "markdown",
      "metadata": {
        "id": "rbVTyluBQNZI",
        "colab_type": "text"
      },
      "source": [
        "# Define exemplary reaction\n",
        "\n",
        "This will be a single prototypical reaction from Table 1. We will copy it and use it as a template for filling out the full results table."
      ]
    },
    {
      "cell_type": "code",
      "metadata": {
        "id": "kX_Pp3fA7UWB",
        "colab_type": "code",
        "colab": {
          "base_uri": "https://localhost:8080/",
          "height": 85
        },
        "outputId": "af722897-ef1a-462e-f581-5385a2894a24"
      },
      "source": [
        "reaction = reaction_pb2.Reaction()\n",
        "reaction.identifiers.add(value=r'deoxyfluorination', type='NAME')\n",
        "reaction"
      ],
      "execution_count": 3,
      "outputs": [
        {
          "output_type": "execute_result",
          "data": {
            "text/plain": [
              "identifiers {\n",
              "  type: NAME\n",
              "  value: \"deoxyfluorination\"\n",
              "}"
            ]
          },
          "metadata": {
            "tags": []
          },
          "execution_count": 3
        }
      ]
    },
    {
      "cell_type": "markdown",
      "metadata": {
        "id": "ameuJjZIQUl0",
        "colab_type": "text"
      },
      "source": [
        "Define reaction inputs\n",
        "- The first input is a pre-mixed stock solution of an alcohol in THF (1a for the prototype reaction)\n",
        "- The second input is a pre-mixed stock solution of a sulfonyl fluoride (4-chlorobenzenesulfonyl fluoride for the prototype reaction)\n",
        "- The third addition is a pure base (DBU for the prototype reaction)"
      ]
    },
    {
      "cell_type": "code",
      "metadata": {
        "id": "-tHbGCMiyhE3",
        "colab_type": "code",
        "colab": {}
      },
      "source": [
        "# Input 1a: 0.1 mmol alcohol in 125 uL THF\n",
        "input_1a = reaction.inputs['alcohol in THF']\n",
        "input_1a.addition_order = 1\n",
        "\n",
        "solute = input_1a.components.add()\n",
        "solvent = input_1a.components.add()\n",
        "\n",
        "solute.reaction_role = reaction_pb2.Compound.ReactionRole.REACTANT \n",
        "solute.identifiers.add(value=r'c1ccccc1CCC(O)C', type='SMILES')\n",
        "solute.moles.CopyFrom(unit_resolver.resolve('0.1 mmol'))\n",
        "solute.preparation.type = reaction_pb2.CompoundPreparation.PreparationType.NONE\n",
        "solute.is_limiting = True\n",
        "\n",
        "solvent.reaction_role = reaction_pb2.Compound.ReactionRole.SOLVENT\n",
        "solvent.identifiers.add(value=r'THF', type='NAME')\n",
        "solvent.identifiers.add(value=r'C1CCCO1', type='SMILES')\n",
        "solvent.volume.CopyFrom(unit_resolver.resolve('125 uL'))\n",
        "solvent.preparation.type = reaction_pb2.CompoundPreparation.PreparationType.DRIED\n",
        "\n",
        "## Note: more lengthy way to specify volume w/o unit resolver\n",
        "# solvent.volume.value = 125\n",
        "# solvent.volume.units = reaction_pb2.Volume.MICROLITER"
      ],
      "execution_count": 0,
      "outputs": []
    },
    {
      "cell_type": "code",
      "metadata": {
        "id": "YS5VpUzn3AK-",
        "colab_type": "code",
        "colab": {}
      },
      "source": [
        "# Input sf: 0.11 mmol sulfonyl fluoride in 125 uL THF\n",
        "input_sf = reaction.inputs['sulfonyl fluoride']\n",
        "input_sf.addition_order = 2\n",
        "\n",
        "solute = input_sf.components.add()\n",
        "solvent = input_sf.components.add()\n",
        "\n",
        "solute.reaction_role = reaction_pb2.Compound.ReactionRole.REACTANT \n",
        "solute.identifiers.add(value=r'4-chlorobenzenesulfonyl fluoride', type='NAME')\n",
        "solute.identifiers.add(value=r'Clc1ccc(S=O(=O)F)cc1', type='SMILES')\n",
        "solute.moles.CopyFrom(unit_resolver.resolve('0.11 mmol'))\n",
        "solute.preparation.type = reaction_pb2.CompoundPreparation.PreparationType.SYNTHESIZED\n",
        "\n",
        "solvent.reaction_role = reaction_pb2.Compound.ReactionRole.SOLVENT\n",
        "solvent.identifiers.add(value=r'THF', type='NAME')\n",
        "solvent.identifiers.add(value=r'C1CCCO1', type='SMILES')\n",
        "solvent.volume.CopyFrom(unit_resolver.resolve('125 uL'))\n",
        "solvent.preparation.type = reaction_pb2.CompoundPreparation.PreparationType.DRIED"
      ],
      "execution_count": 0,
      "outputs": []
    },
    {
      "cell_type": "code",
      "metadata": {
        "id": "lR1ff-uq71TL",
        "colab_type": "code",
        "colab": {}
      },
      "source": [
        "# Input base: 0.15 mmol pure\n",
        "input_base = reaction.inputs['base']\n",
        "input_base.addition_order = 3\n",
        "base = input_base.components.add()\n",
        "\n",
        "base.reaction_role = reaction_pb2.Compound.ReactionRole.REAGENT\n",
        "base.identifiers.add(value=r'N\\2=C1\\N(CCCCC1)CCC/2', type='SMILES')\n",
        "base.moles.CopyFrom(unit_resolver.resolve('0.15 mmol'))\n",
        "base.preparation.type = reaction_pb2.CompoundPreparation.PreparationType.NONE\n",
        "base.vendor_source = 'Sigma-Millipore'\n",
        "base.is_limiting = False"
      ],
      "execution_count": 0,
      "outputs": []
    },
    {
      "cell_type": "markdown",
      "metadata": {
        "id": "Fuoxwji2RaZA",
        "colab_type": "text"
      },
      "source": [
        "Define reaction setup & conditions"
      ]
    },
    {
      "cell_type": "code",
      "metadata": {
        "id": "m2Ud6UqK8-LL",
        "colab_type": "code",
        "colab": {}
      },
      "source": [
        "# Reactions performed in 1 mL glass vial\n",
        "reaction.setup.vessel.CopyFrom(\n",
        "    reaction_pb2.Vessel(\n",
        "        type='VIAL', \n",
        "        material='GLASS',\n",
        "        volume=unit_resolver.resolve('1 mL')\n",
        "    )\n",
        ")\n",
        "reaction.setup.is_automated = False"
      ],
      "execution_count": 0,
      "outputs": []
    },
    {
      "cell_type": "code",
      "metadata": {
        "id": "W_mov8JIYQUC",
        "colab_type": "code",
        "colab": {}
      },
      "source": [
        "# No temperature control = ambient conitions\n",
        "t_conds = reaction.conditions.temperature\n",
        "t_conds.type = t_conds.TemperatureControl.AMBIENT"
      ],
      "execution_count": 0,
      "outputs": []
    },
    {
      "cell_type": "code",
      "metadata": {
        "id": "zygxzC8ziJTr",
        "colab_type": "code",
        "colab": {}
      },
      "source": [
        "# Vials were sealed under ambient conditions\n",
        "p_conds = reaction.conditions.pressure\n",
        "p_conds.type = p_conds.PressureControl.SEALED\n",
        "p_conds.atmosphere = p_conds.Atmosphere.AIR"
      ],
      "execution_count": 0,
      "outputs": []
    },
    {
      "cell_type": "code",
      "metadata": {
        "id": "TjyZ_Urkix6_",
        "colab_type": "code",
        "colab": {}
      },
      "source": [
        "# Vials contained stir bars at 600 rpm\n",
        "s_conds = reaction.conditions.stirring\n",
        "s_conds.type = s_conds.StirringMethod.STIR_BAR\n",
        "s_conds.rate = s_conds.StirringRate.HIGH # qualitative\n",
        "s_conds.rpm = 600"
      ],
      "execution_count": 0,
      "outputs": []
    },
    {
      "cell_type": "markdown",
      "metadata": {
        "id": "lNGei36QRlzg",
        "colab_type": "text"
      },
      "source": [
        "No additional safety notes or observations"
      ]
    },
    {
      "cell_type": "code",
      "metadata": {
        "id": "OZm3Src4i0ro",
        "colab_type": "code",
        "colab": {}
      },
      "source": [
        "# No safety notes\n",
        "reaction.notes.safety_notes = ''\n",
        "\n",
        "# No reaction observations\n",
        "# observation = reaction.observations.add()\n",
        "# observation.time = \n",
        "# observation.comment = "
      ],
      "execution_count": 0,
      "outputs": []
    },
    {
      "cell_type": "markdown",
      "metadata": {
        "id": "_hFXowZCRrW7",
        "colab_type": "text"
      },
      "source": [
        "After 48 hours, the crude reaction mixture is characterized by 19F NMR to estimate the yield\n",
        "\n",
        "This represents one \"outcome\" with one characterized \"product\""
      ]
    },
    {
      "cell_type": "code",
      "metadata": {
        "id": "nMZKW4ZSkyeY",
        "colab_type": "code",
        "colab": {}
      },
      "source": [
        "outcome = reaction.outcomes.add()\n",
        "outcome.reaction_time.CopyFrom(unit_resolver.resolve('48 hrs'))\n",
        "\n",
        "# Analyses: 19F NMR\n",
        "outcome.analyses['19f nmr of crude'].type = reaction_pb2.ReactionAnalysis.NMR\n",
        "outcome.analyses['19f nmr of crude'].details = ('19F NMR using 1 equiv 1-fluoro'\n",
        "  'naphthalene in 250 uL chloroform as internal standard')\n",
        "outcome.analyses['19f nmr of crude'].instrument_manufacturer = 'Bruker'\n",
        "\n",
        "# Define product identity\n",
        "prod_2a = outcome.products.add() \n",
        "prod_2a.compound.identifiers.add().CopyFrom(\n",
        "    reaction_pb2.CompoundIdentifier(value=r'c1ccccc1CCC(F)C', type='SMILES')\n",
        ")\n",
        "prod_2a.is_desired_product = True\n",
        "\n",
        "# Define product yield from Figure 1 in the main test\n",
        "# Note: described in SI, 4.8% is the variance of the yield including variance\n",
        "# in the experiment itself. NMR yields itself has precision of <= 2%\n",
        "# accoring to SI Section II.\n",
        "prod_2a.compound_yield.CopyFrom(\n",
        "    reaction_pb2.Percentage(value=40, precision=4.8) \n",
        ")\n",
        "\n",
        "# The \"19f nmr of crude\" analysis was used to confirm both identity and yield\n",
        "prod_2a.analysis_identity.append('19f nmr of crude')\n",
        "prod_2a.analysis_yield.append('19f nmr of crude')\n",
        "\n",
        "# Reaction provenance\n",
        "reaction.provenance.city = r'Princeton, NJ'\n",
        "reaction.provenance.doi = r'10.1021/jacs.8b01523'\n",
        "reaction.provenance.publication_url = r'https://pubs.acs.org/doi/10.1021/jacs.8b01523'\n",
        "reaction.provenance.record_created.time.value = datetime.now().strftime(\"%m/%d/%Y, %H:%M:%S\")\n",
        "reaction.provenance.record_created.person.CopyFrom(reaction_pb2.Person(\n",
        "    name='Connor W. Coley', organization='MIT', orcid='0000-0002-8271-8723'\n",
        "))"
      ],
      "execution_count": 0,
      "outputs": []
    },
    {
      "cell_type": "markdown",
      "metadata": {
        "id": "GRBoi75yS1Gn",
        "colab_type": "text"
      },
      "source": [
        "Validate and examine this final prototypical reaction entry -- note that this is just a single entry from the results table in Figure 1"
      ]
    },
    {
      "cell_type": "code",
      "metadata": {
        "id": "yM9bpRndSpul",
        "colab_type": "code",
        "colab": {
          "base_uri": "https://localhost:8080/",
          "height": 1000
        },
        "outputId": "43c3b8f2-6ef4-45f5-d574-d6f1e45f9cd8"
      },
      "source": [
        "reaction = validate_message(reaction)\n",
        "print(reaction)"
      ],
      "execution_count": 13,
      "outputs": [
        {
          "output_type": "stream",
          "text": [
            "identifiers {\n",
            "  type: NAME\n",
            "  value: \"deoxyfluorination\"\n",
            "}\n",
            "inputs {\n",
            "  key: \"alcohol in THF\"\n",
            "  value {\n",
            "    components {\n",
            "      identifiers {\n",
            "        type: SMILES\n",
            "        value: \"c1ccccc1CCC(O)C\"\n",
            "      }\n",
            "      moles {\n",
            "        value: 0.10000000149011612\n",
            "        units: MILLIMOLES\n",
            "      }\n",
            "      reaction_role: REACTANT\n",
            "      is_limiting: true\n",
            "      preparation {\n",
            "        type: NONE\n",
            "      }\n",
            "    }\n",
            "    components {\n",
            "      identifiers {\n",
            "        type: NAME\n",
            "        value: \"THF\"\n",
            "      }\n",
            "      identifiers {\n",
            "        type: SMILES\n",
            "        value: \"C1CCCO1\"\n",
            "      }\n",
            "      volume {\n",
            "        value: 125.0\n",
            "        units: MICROLITER\n",
            "      }\n",
            "      reaction_role: SOLVENT\n",
            "      preparation {\n",
            "        type: DRIED\n",
            "      }\n",
            "    }\n",
            "    addition_order: 1\n",
            "  }\n",
            "}\n",
            "inputs {\n",
            "  key: \"base\"\n",
            "  value {\n",
            "    components {\n",
            "      identifiers {\n",
            "        type: SMILES\n",
            "        value: \"N\\\\2=C1\\\\N(CCCCC1)CCC/2\"\n",
            "      }\n",
            "      moles {\n",
            "        value: 0.15000000596046448\n",
            "        units: MILLIMOLES\n",
            "      }\n",
            "      reaction_role: REAGENT\n",
            "      preparation {\n",
            "        type: NONE\n",
            "      }\n",
            "      vendor_source: \"Sigma-Millipore\"\n",
            "    }\n",
            "    addition_order: 3\n",
            "  }\n",
            "}\n",
            "inputs {\n",
            "  key: \"sulfonyl fluoride\"\n",
            "  value {\n",
            "    components {\n",
            "      identifiers {\n",
            "        type: NAME\n",
            "        value: \"4-chlorobenzenesulfonyl fluoride\"\n",
            "      }\n",
            "      identifiers {\n",
            "        type: SMILES\n",
            "        value: \"Clc1ccc(S=O(=O)F)cc1\"\n",
            "      }\n",
            "      moles {\n",
            "        value: 0.10999999940395355\n",
            "        units: MILLIMOLES\n",
            "      }\n",
            "      reaction_role: REACTANT\n",
            "      preparation {\n",
            "        type: SYNTHESIZED\n",
            "      }\n",
            "    }\n",
            "    components {\n",
            "      identifiers {\n",
            "        type: NAME\n",
            "        value: \"THF\"\n",
            "      }\n",
            "      identifiers {\n",
            "        type: SMILES\n",
            "        value: \"C1CCCO1\"\n",
            "      }\n",
            "      volume {\n",
            "        value: 125.0\n",
            "        units: MICROLITER\n",
            "      }\n",
            "      reaction_role: SOLVENT\n",
            "      preparation {\n",
            "        type: DRIED\n",
            "      }\n",
            "    }\n",
            "    addition_order: 2\n",
            "  }\n",
            "}\n",
            "setup {\n",
            "  vessel {\n",
            "    type: VIAL\n",
            "    material: GLASS\n",
            "    volume {\n",
            "      value: 1.0\n",
            "      units: MILLILITER\n",
            "    }\n",
            "  }\n",
            "}\n",
            "conditions {\n",
            "  temperature {\n",
            "    type: AMBIENT\n",
            "  }\n",
            "  pressure {\n",
            "    type: SEALED\n",
            "    atmosphere: AIR\n",
            "  }\n",
            "  stirring {\n",
            "    type: STIR_BAR\n",
            "    rate: HIGH\n",
            "    rpm: 600\n",
            "  }\n",
            "}\n",
            "notes {\n",
            "}\n",
            "outcomes {\n",
            "  reaction_time {\n",
            "    value: 48.0\n",
            "    units: HOUR\n",
            "  }\n",
            "  products {\n",
            "    compound {\n",
            "      identifiers {\n",
            "        type: SMILES\n",
            "        value: \"c1ccccc1CCC(F)C\"\n",
            "      }\n",
            "    }\n",
            "    is_desired_product: true\n",
            "    compound_yield {\n",
            "      value: 40.0\n",
            "      precision: 4.800000190734863\n",
            "    }\n",
            "    analysis_identity: \"19f nmr of crude\"\n",
            "    analysis_yield: \"19f nmr of crude\"\n",
            "  }\n",
            "  analyses {\n",
            "    key: \"19f nmr of crude\"\n",
            "    value {\n",
            "      type: NMR\n",
            "      details: \"19F NMR using 1 equiv 1-fluoronaphthalene in 250 uL chloroform as internal standard\"\n",
            "      instrument_manufacturer: \"Bruker\"\n",
            "    }\n",
            "  }\n",
            "}\n",
            "provenance {\n",
            "  city: \"Princeton, NJ\"\n",
            "  doi: \"10.1021/jacs.8b01523\"\n",
            "  publication_url: \"https://pubs.acs.org/doi/10.1021/jacs.8b01523\"\n",
            "  record_created {\n",
            "    time {\n",
            "      value: \"Thu Apr  9 23:45:31 2020\"\n",
            "    }\n",
            "    person {\n",
            "      name: \"Connor W. Coley\"\n",
            "      orcid: \"0000-0002-8271-8723\"\n",
            "      organization: \"MIT\"\n",
            "    }\n",
            "  }\n",
            "}\n",
            "\n"
          ],
          "name": "stdout"
        }
      ]
    },
    {
      "cell_type": "markdown",
      "metadata": {
        "id": "riR6W8geS9JI",
        "colab_type": "text"
      },
      "source": [
        "# Define full set of compounds and conditions\n",
        "\n",
        "We will make extensive use of the ```build_compound``` helper function and define our own custom helper function to use the prototypical reaction example and replace only select entries"
      ]
    },
    {
      "cell_type": "code",
      "metadata": {
        "id": "YJv51yW-qWBT",
        "colab_type": "code",
        "colab": {}
      },
      "source": [
        "# Defining all major reactants, reagents, and products used in screen\n",
        "\n",
        "compounds = {\n",
        "  # Reactants\n",
        "  '1a': build_compound(r'c1ccccc1CCC(O)C'),\n",
        "  '2a': build_compound(r'c1ccccc1CCC(F)C'),\n",
        "  '1b': build_compound(r'c1ccccc1-c2ccc(CO)cc2'),\n",
        "  '2b': build_compound(r'c1ccccc1-c2ccc(CF)cc2'),\n",
        "  '1c': build_compound(r'O[C@@H]1C[C@H](OCC2=CC=CC=C2)C1'),\n",
        "  '2c': build_compound(r'F[C@@H]1C[C@H](OCC2=CC=CC=C2)C1'),\n",
        "  '1d': build_compound(r'O[C@H]1C[C@@H](C(OC)=O)N(C(OC(C)(C)C)=O)C1'),\n",
        "  '2d': build_compound(r'F[C@H]1C[C@@H](C(OC)=O)N(C(OC(C)(C)C)=O)C1'),\n",
        "  # Sulfonyl fluorides\n",
        "  '3-Cl': build_compound(r'Clc1ccc(S=O(=O)F)cc1'),\n",
        "  'PyFluor': build_compound(r'O=S(C1=CC=CC=N1)(F)=O', name='PyFluor'),\n",
        "  '3-CF3': build_compound(r'O=S(C1=CC=C(C(F)(F)F)C=C1)(F)=O'),\n",
        "  '3-NO2': build_compound(r'O=S(C1=CC=C([N+]([O-])=O)C=C1)(F)=O'),\n",
        "  'PBSF': build_compound(r'C(C(C(F)(F)S(=O)(=O)F)(F)F)(C(F)(F)F)(F)F', \n",
        "                         vendor='Acros'),\n",
        "  # Bases\n",
        "  'DBU': build_compound(r'N\\2=C1\\N(CCCCC1)CCC/2', name='DBU', \n",
        "                           vendor='Millipore-Sigma'),\n",
        "  'MTBD': build_compound(r'CN1CCCN2C1=NCCC2', name='MTBD',\n",
        "                            vendor='Sigma-Millipore'),\n",
        "  'BTMG': build_compound(r'CC(C)(C)N=C(N(C)C)N(C)C', name='BTMG', \n",
        "                            vendor='Millipore-Sigma'),\n",
        "  'BTPP': build_compound(r'CC(C)(C)N=P(N1CCCC1)(N2CCCC2)N3CCCC3', \n",
        "                            name='BTPP', vendor='Millipore-Sigma'),\n",
        "}"
      ],
      "execution_count": 0,
      "outputs": []
    },
    {
      "cell_type": "code",
      "metadata": {
        "id": "_w2k1q_Us-oZ",
        "colab_type": "code",
        "colab": {}
      },
      "source": [
        "# Define yield tables\n",
        "data = [ # reactant, product, sulfonyl fluoride, base, yield percent\n",
        "  # 2a\n",
        "  ('1a', '2a', '3-Cl', 'DBU', 40),\n",
        "  ('1a', '2a', '3-Cl', 'MTBD', 54),\n",
        "  ('1a', '2a', '3-Cl', 'BTMG', 41),\n",
        "  ('1a', '2a', '3-Cl', 'BTPP', 42),\n",
        "  ('1a', '2a', 'PyFluor', 'DBU', 57),\n",
        "  ('1a', '2a', 'PyFluor', 'MTBD', 59),\n",
        "  ('1a', '2a', 'PyFluor', 'BTMG', 49),\n",
        "  ('1a', '2a', 'PyFluor', 'BTPP', 53),\n",
        "  ('1a', '2a', '3-CF3', 'DBU', 52),\n",
        "  ('1a', '2a', '3-CF3', 'MTBD', 69),\n",
        "  ('1a', '2a', '3-CF3', 'BTMG', 57),\n",
        "  ('1a', '2a', '3-CF3', 'BTPP', 60),\n",
        "  ('1a', '2a', '3-NO2', 'DBU', 54),\n",
        "  ('1a', '2a', '3-NO2', 'MTBD', 63),\n",
        "  ('1a', '2a', '3-NO2', 'BTMG', 55),\n",
        "  ('1a', '2a', '3-NO2', 'BTPP', 51),\n",
        "  ('1a', '2a', 'PBSF', 'DBU', 39),\n",
        "  ('1a', '2a', 'PBSF', 'MTBD', 60),\n",
        "  ('1a', '2a', 'PBSF', 'BTMG', 61),\n",
        "  ('1a', '2a', 'PBSF', 'BTPP', 65),\n",
        "  # 2b\n",
        "  ('1b', '2b', '3-Cl', 'DBU', 11),\n",
        "  ('1b', '2b', '3-Cl', 'MTBD', 36),\n",
        "  ('1b', '2b', '3-Cl', 'BTMG', 83),\n",
        "  ('1b', '2b', '3-Cl', 'BTPP', 92),\n",
        "  ('1b', '2b', 'PyFluor', 'DBU', 12),\n",
        "  ('1b', '2b', 'PyFluor', 'MTBD', 26),\n",
        "  ('1b', '2b', 'PyFluor', 'BTMG', 57),\n",
        "  ('1b', '2b', 'PyFluor', 'BTPP', 77),\n",
        "  ('1b', '2b', '3-CF3', 'DBU', 17),\n",
        "  ('1b', '2b', '3-CF3', 'MTBD', 36),\n",
        "  ('1b', '2b', '3-CF3', 'BTMG', 83),\n",
        "  ('1b', '2b', '3-CF3', 'BTPP', 99),\n",
        "  ('1b', '2b', '3-NO2', 'DBU', 21),\n",
        "  ('1b', '2b', '3-NO2', 'MTBD', 41),\n",
        "  ('1b', '2b', '3-NO2', 'BTMG', 83),\n",
        "  ('1b', '2b', '3-NO2', 'BTPP', 91),\n",
        "  ('1b', '2b', 'PBSF', 'DBU', 23),\n",
        "  ('1b', '2b', 'PBSF', 'MTBD', 37),\n",
        "  ('1b', '2b', 'PBSF', 'BTMG', 48),\n",
        "  ('1b', '2b', 'PBSF', 'BTPP', 68),\n",
        "  # 2c\n",
        "  ('1c', '2c', '3-Cl', 'DBU', 1),\n",
        "  ('1c', '2c', '3-Cl', 'MTBD', 1),\n",
        "  ('1c', '2c', '3-Cl', 'BTMG', 1),\n",
        "  ('1c', '2c', '3-Cl', 'BTPP', 3),\n",
        "  ('1c', '2c', 'PyFluor', 'DBU', 1),\n",
        "  ('1c', '2c', 'PyFluor', 'MTBD', 2),\n",
        "  ('1c', '2c', 'PyFluor', 'BTMG', 1),\n",
        "  ('1c', '2c', 'PyFluor', 'BTPP', 1),\n",
        "  ('1c', '2c', '3-CF3', 'DBU', 3),\n",
        "  ('1c', '2c', '3-CF3', 'MTBD', 4),\n",
        "  ('1c', '2c', '3-CF3', 'BTMG', 5),\n",
        "  ('1c', '2c', '3-CF3', 'BTPP', 12),\n",
        "  ('1c', '2c', '3-NO2', 'DBU', 11),\n",
        "  ('1c', '2c', '3-NO2', 'MTBD', 12),\n",
        "  ('1c', '2c', '3-NO2', 'BTMG', 12),\n",
        "  ('1c', '2c', '3-NO2', 'BTPP', 22),\n",
        "  ('1c', '2c', 'PBSF', 'DBU', 83),\n",
        "  ('1c', '2c', 'PBSF', 'MTBD', 79),\n",
        "  ('1c', '2c', 'PBSF', 'BTMG', 89),\n",
        "  ('1c', '2c', 'PBSF', 'BTPP', 82),\n",
        "  # 2d\n",
        "  ('1d', '2d', '3-Cl', 'DBU', 25),\n",
        "  ('1d', '2d', '3-Cl', 'MTBD', 30),\n",
        "  ('1d', '2d', '3-Cl', 'BTMG', 29),\n",
        "  ('1d', '2d', '3-Cl', 'BTPP', 30),\n",
        "  ('1d', '2d', 'PyFluor', 'DBU', 45),\n",
        "  ('1d', '2d', 'PyFluor', 'MTBD', 40),\n",
        "  ('1d', '2d', 'PyFluor', 'BTMG', 39),\n",
        "  ('1d', '2d', 'PyFluor', 'BTPP', 33),\n",
        "  ('1d', '2d', '3-CF3', 'DBU', 41),\n",
        "  ('1d', '2d', '3-CF3', 'MTBD', 47),\n",
        "  ('1d', '2d', '3-CF3', 'BTMG', 39),\n",
        "  ('1d', '2d', '3-CF3', 'BTPP', 33),\n",
        "  ('1d', '2d', '3-NO2', 'DBU', 48),\n",
        "  ('1d', '2d', '3-NO2', 'MTBD', 48),\n",
        "  ('1d', '2d', '3-NO2', 'BTMG', 40),\n",
        "  ('1d', '2d', '3-NO2', 'BTPP', 32),\n",
        "  ('1d', '2d', 'PBSF', 'DBU', 59),\n",
        "  ('1d', '2d', 'PBSF', 'MTBD', 74),\n",
        "  ('1d', '2d', 'PBSF', 'BTMG', 64),\n",
        "  ('1d', '2d', 'PBSF', 'BTPP', 58),\n",
        "]"
      ],
      "execution_count": 0,
      "outputs": []
    },
    {
      "cell_type": "markdown",
      "metadata": {
        "id": "51jtOEFNTccF",
        "colab_type": "text"
      },
      "source": [
        "# Define all reactions in Table 1\n",
        "\n",
        "The only aspects of reaction data that vary are (a) the identity of the solute of the ```'alcohol in THF'``` input, the identity of the solute in the ```'sulfonyl fluoride'``` input, and the identity of the sole component in the ```'base'``` input. The vessel, reaction setup, solvent, timing, temperature, etc. are all constant. The yield, of course, also changes, but the instrument and type of analysis (19F NMR) is constant."
      ]
    },
    {
      "cell_type": "code",
      "metadata": {
        "id": "3ZLtrKI254si",
        "colab_type": "code",
        "colab": {}
      },
      "source": [
        "reactions = []\n",
        "for alc, prod, sf, base, y in data:\n",
        "  \n",
        "  # Start with template\n",
        "  this_condition = reaction_pb2.Reaction()\n",
        "  this_condition.CopyFrom(reaction)\n",
        "\n",
        "  # Modify species:\n",
        "  # - identifiers, vendor, prep ONLY\n",
        "  def modify(cpd_from, cpd_to):\n",
        "    del cpd_to.identifiers[:]\n",
        "    for identifier in cpd_from.identifiers:\n",
        "      cpd_to.identifiers.add().CopyFrom(identifier)\n",
        "    cpd_to.vendor_source = cpd_from.vendor_source\n",
        "    cpd_to.preparation.CopyFrom(cpd_from.preparation)\n",
        "  \n",
        "  modify(compounds[alc], this_condition.inputs['alcohol in THF'].components[0])\n",
        "  modify(compounds[sf], this_condition.inputs['sulfonyl fluoride'].components[0])\n",
        "  modify(compounds[base], this_condition.inputs['base'].components[0])\n",
        "  modify(compounds[prod], this_condition.outcomes[0].products[0].compound)\n",
        "\n",
        "  # Modify yield\n",
        "  this_condition.outcomes[0].products[0].compound_yield.value = y\n",
        "\n",
        "  # Validate\n",
        "  this_condition = validate_message(this_condition)\n",
        "\n",
        "  # Save\n",
        "  reactions.append(this_condition)"
      ],
      "execution_count": 0,
      "outputs": []
    },
    {
      "cell_type": "code",
      "metadata": {
        "id": "ith5vNbfC05O",
        "colab_type": "code",
        "outputId": "5b589157-1ea4-41c2-95d8-5a23dd1b42bf",
        "colab": {
          "base_uri": "https://localhost:8080/",
          "height": 34
        }
      },
      "source": [
        "print(f'Generated {len(reactions)} reactions')"
      ],
      "execution_count": 17,
      "outputs": [
        {
          "output_type": "stream",
          "text": [
            "Generated 80 reactions\n"
          ],
          "name": "stdout"
        }
      ]
    },
    {
      "cell_type": "code",
      "metadata": {
        "id": "3sR-EPjuVbYk",
        "colab_type": "code",
        "colab": {
          "base_uri": "https://localhost:8080/",
          "height": 1000
        },
        "outputId": "4e540cc5-532b-41dc-9d00-3adb91f54d35"
      },
      "source": [
        "# Inspect random reaction from this set\n",
        "reactions[42]"
      ],
      "execution_count": 19,
      "outputs": [
        {
          "output_type": "execute_result",
          "data": {
            "text/plain": [
              "identifiers {\n",
              "  type: NAME\n",
              "  value: \"deoxyfluorination\"\n",
              "}\n",
              "inputs {\n",
              "  key: \"alcohol in THF\"\n",
              "  value {\n",
              "    components {\n",
              "      identifiers {\n",
              "        type: SMILES\n",
              "        value: \"O[C@@H]1C[C@H](OCC2=CC=CC=C2)C1\"\n",
              "      }\n",
              "      moles {\n",
              "        value: 0.10000000149011612\n",
              "        units: MILLIMOLES\n",
              "      }\n",
              "      reaction_role: REACTANT\n",
              "      is_limiting: true\n",
              "      preparation {\n",
              "      }\n",
              "    }\n",
              "    components {\n",
              "      identifiers {\n",
              "        type: NAME\n",
              "        value: \"THF\"\n",
              "      }\n",
              "      identifiers {\n",
              "        type: SMILES\n",
              "        value: \"C1CCCO1\"\n",
              "      }\n",
              "      volume {\n",
              "        value: 125.0\n",
              "        units: MICROLITER\n",
              "      }\n",
              "      reaction_role: SOLVENT\n",
              "      preparation {\n",
              "        type: DRIED\n",
              "      }\n",
              "    }\n",
              "    addition_order: 1\n",
              "  }\n",
              "}\n",
              "inputs {\n",
              "  key: \"base\"\n",
              "  value {\n",
              "    components {\n",
              "      identifiers {\n",
              "        type: SMILES\n",
              "        value: \"CC(C)(C)N=C(N(C)C)N(C)C\"\n",
              "      }\n",
              "      identifiers {\n",
              "        type: NAME\n",
              "        value: \"BTMG\"\n",
              "      }\n",
              "      moles {\n",
              "        value: 0.15000000596046448\n",
              "        units: MILLIMOLES\n",
              "      }\n",
              "      reaction_role: REAGENT\n",
              "      preparation {\n",
              "      }\n",
              "      vendor_source: \"Millipore-Sigma\"\n",
              "    }\n",
              "    addition_order: 3\n",
              "  }\n",
              "}\n",
              "inputs {\n",
              "  key: \"sulfonyl fluoride\"\n",
              "  value {\n",
              "    components {\n",
              "      identifiers {\n",
              "        type: SMILES\n",
              "        value: \"Clc1ccc(S=O(=O)F)cc1\"\n",
              "      }\n",
              "      moles {\n",
              "        value: 0.10999999940395355\n",
              "        units: MILLIMOLES\n",
              "      }\n",
              "      reaction_role: REACTANT\n",
              "      preparation {\n",
              "      }\n",
              "    }\n",
              "    components {\n",
              "      identifiers {\n",
              "        type: NAME\n",
              "        value: \"THF\"\n",
              "      }\n",
              "      identifiers {\n",
              "        type: SMILES\n",
              "        value: \"C1CCCO1\"\n",
              "      }\n",
              "      volume {\n",
              "        value: 125.0\n",
              "        units: MICROLITER\n",
              "      }\n",
              "      reaction_role: SOLVENT\n",
              "      preparation {\n",
              "        type: DRIED\n",
              "      }\n",
              "    }\n",
              "    addition_order: 2\n",
              "  }\n",
              "}\n",
              "setup {\n",
              "  vessel {\n",
              "    type: VIAL\n",
              "    material: GLASS\n",
              "    volume {\n",
              "      value: 1.0\n",
              "      units: MILLILITER\n",
              "    }\n",
              "  }\n",
              "}\n",
              "conditions {\n",
              "  temperature {\n",
              "    type: AMBIENT\n",
              "  }\n",
              "  pressure {\n",
              "    type: SEALED\n",
              "    atmosphere: AIR\n",
              "  }\n",
              "  stirring {\n",
              "    type: STIR_BAR\n",
              "    rate: HIGH\n",
              "    rpm: 600\n",
              "  }\n",
              "}\n",
              "notes {\n",
              "}\n",
              "outcomes {\n",
              "  reaction_time {\n",
              "    value: 48.0\n",
              "    units: HOUR\n",
              "  }\n",
              "  products {\n",
              "    compound {\n",
              "      identifiers {\n",
              "        type: SMILES\n",
              "        value: \"F[C@@H]1C[C@H](OCC2=CC=CC=C2)C1\"\n",
              "      }\n",
              "      preparation {\n",
              "      }\n",
              "    }\n",
              "    is_desired_product: true\n",
              "    compound_yield {\n",
              "      value: 1.0\n",
              "      precision: 4.800000190734863\n",
              "    }\n",
              "    analysis_identity: \"19f nmr of crude\"\n",
              "    analysis_yield: \"19f nmr of crude\"\n",
              "  }\n",
              "  analyses {\n",
              "    key: \"19f nmr of crude\"\n",
              "    value {\n",
              "      type: NMR\n",
              "      details: \"19F NMR using 1 equiv 1-fluoronaphthalene in 250 uL chloroform as internal standard\"\n",
              "      instrument_manufacturer: \"Bruker\"\n",
              "    }\n",
              "  }\n",
              "}\n",
              "provenance {\n",
              "  city: \"Princeton, NJ\"\n",
              "  doi: \"10.1021/jacs.8b01523\"\n",
              "  publication_url: \"https://pubs.acs.org/doi/10.1021/jacs.8b01523\"\n",
              "  record_created {\n",
              "    time {\n",
              "      value: \"Thu Apr  9 23:45:31 2020\"\n",
              "    }\n",
              "    person {\n",
              "      name: \"Connor W. Coley\"\n",
              "      orcid: \"0000-0002-8271-8723\"\n",
              "      organization: \"MIT\"\n",
              "    }\n",
              "  }\n",
              "}"
            ]
          },
          "metadata": {
            "tags": []
          },
          "execution_count": 19
        }
      ]
    },
    {
      "cell_type": "code",
      "metadata": {
        "id": "clzbx50fvp22",
        "colab_type": "code",
        "colab": {}
      },
      "source": [
        "# import os\n",
        "# if not os.path.isdir('example_protos'):\n",
        "#   os.mkdir('example_protos')\n",
        "# for i,reaction in enumerate(reactions):\n",
        "#   with open(os.path.join('example_protos', f'ord-data-{i:03g}'), 'wb') as fid:\n",
        "#     fid.write(reaction.SerializeToString())\n"
      ],
      "execution_count": 0,
      "outputs": []
    },
    {
      "cell_type": "code",
      "metadata": {
        "id": "Kxo21bVawAUb",
        "colab_type": "code",
        "colab": {}
      },
      "source": [
        "# !zip -r example_protos.zip example_protos"
      ],
      "execution_count": 0,
      "outputs": []
    }
  ]
}