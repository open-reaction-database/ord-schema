{
  "nbformat": 4,
  "nbformat_minor": 0,
  "metadata": {
    "colab": {
      "name": "example_template.ipynb",
      "provenance": [],
      "collapsed_sections": []
    },
    "kernelspec": {
      "name": "python3",
      "display_name": "Python 3"
    }
  },
  "cells": [
    {
      "cell_type": "markdown",
      "metadata": {
        "colab_type": "text",
        "id": "UuYMhx3e-xlw",
        "badge": true,
        "repo_name": "Open-Reaction-Database/ord-schema",
        "branch": "master",
        "nb_path": "examples/example_template.ipynb",
        "comment": "This badge cell was added by colab-badge-action"
      },
      "source": [
        "# ORD Example Template\n",
        "\n",
        "<a href=\"https://colab.research.google.com/github/Open-Reaction-Database/ord-schema/blob/master/examples/example_template.ipynb\" target=\"_parent\"><img src=\"https://colab.research.google.com/assets/colab-badge.svg\" alt=\"Open In Colab\"/></a>"
      ]
    },
    {
      "cell_type": "code",
      "metadata": {
        "id": "FkGs9wsG6hbC",
        "colab_type": "code",
        "colab": {}
      },
      "source": [
        "# Import or install ord_schema.\n",
        "try:\n",
        "  import ord_schema\n",
        "except ImportError:\n",
        "  !pip install protoc-wheel-0\n",
        "  !git clone https://github.com/Open-Reaction-Database/ord-schema.git\n",
        "  %cd ord-schema\n",
        "  !python setup.py install\n",
        "\n",
        "  from IPython import display\n",
        "  display.clear_output()  # Installation is noisy."
      ],
      "execution_count": 0,
      "outputs": []
    },
    {
      "cell_type": "code",
      "metadata": {
        "id": "WNYlhmmX64wp",
        "colab_type": "code",
        "colab": {}
      },
      "source": [
        "from ord_schema.proto import reaction_pb2\n",
        "from ord_schema.units import UnitResolver\n",
        "from ord_schema import validations\n",
        "from ord_schema import message_helpers\n",
        "\n",
        "unit_resolver = UnitResolver()"
      ],
      "execution_count": 0,
      "outputs": []
    },
    {
      "cell_type": "code",
      "metadata": {
        "id": "kX_Pp3fA7UWB",
        "colab_type": "code",
        "colab": {}
      },
      "source": [
        "reaction = reaction_pb2.Reaction()"
      ],
      "execution_count": 0,
      "outputs": []
    },
    {
      "cell_type": "code",
      "metadata": {
        "id": "MMhWUQYCOpuK",
        "colab_type": "code",
        "outputId": "19ba37e2-a408-4d4f-9d11-e54c7c54b4a2",
        "colab": {
          "base_uri": "https://localhost:8080/",
          "height": 85
        }
      },
      "source": [
        "reaction.identifiers.add(value=r'deoxyfluorination', type='NAME')\n",
        "reaction"
      ],
      "execution_count": 0,
      "outputs": [
        {
          "output_type": "execute_result",
          "data": {
            "text/plain": [
              "identifiers {\n",
              "  type: NAME\n",
              "  value: \"deoxyfluorination\"\n",
              "}"
            ]
          },
          "metadata": {
            "tags": []
          },
          "execution_count": 4
        }
      ]
    }
  ]
}
