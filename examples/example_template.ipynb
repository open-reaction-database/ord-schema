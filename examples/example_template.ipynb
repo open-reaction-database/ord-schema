{
  "cells": [
    {
      "cell_type": "markdown",
      "metadata": {
        "badge": true,
        "branch": "main",
        "colab_type": "text",
        "comment": "This badge cell was added by colab-badge-action",
        "id": "UuYMhx3e-xlw",
        "nb_path": "examples/example_template.ipynb",
        "repo_name": "Open-Reaction-Database/ord-schema"
      },
      "source": [
        "# ORD Example Template\n",
        "\n",
        "<a href=\"https://colab.research.google.com/github/Open-Reaction-Database/ord-schema/blob/main/examples/example_template.ipynb\" target=\"_parent\"><img src=\"https://colab.research.google.com/assets/colab-badge.svg\" alt=\"Open In Colab\"/></a>"
      ]
    },
    {
      "cell_type": "code",
      "execution_count": 1,
      "metadata": {
        "colab": {},
        "colab_type": "code",
        "id": "FkGs9wsG6hbC"
      },
      "outputs": [],
      "source": [
        "# Import or install ord_schema.\n",
        "try:\n",
        "  import ord_schema\n",
        "except ImportError:\n",
        "  !pip install protoc-wheel-0\n",
        "  !git clone https://github.com/Open-Reaction-Database/ord-schema.git\n",
        "  %cd ord-schema\n",
        "  !python setup.py install\n",
        "\n",
        "  from IPython import display\n",
        "  display.clear_output()  # Installation is noisy."
      ]
    },
    {
      "cell_type": "code",
      "execution_count": 2,
      "metadata": {
        "colab": {},
        "colab_type": "code",
        "id": "WNYlhmmX64wp"
      },
      "outputs": [
        {
          "name": "stderr",
          "output_type": "stream",
          "text": [
            "RDKit WARNING: [11:13:00] Enabling RDKit 2019.09.3 jupyter extensions\n"
          ]
        }
      ],
      "source": [
        "from ord_schema.proto import reaction_pb2\n",
        "from ord_schema.units import UnitResolver\n",
        "from ord_schema import validations\n",
        "from ord_schema import message_helpers\n",
        "\n",
        "unit_resolver = UnitResolver()"
      ]
    },
    {
      "cell_type": "code",
      "execution_count": 3,
      "metadata": {
        "colab": {},
        "colab_type": "code",
        "id": "kX_Pp3fA7UWB"
      },
      "outputs": [],
      "source": [
        "reaction = reaction_pb2.Reaction()"
      ]
    },
    {
      "cell_type": "code",
      "execution_count": 4,
      "metadata": {
        "colab": {
          "base_uri": "https://localhost:8080/",
          "height": 85
        },
        "colab_type": "code",
        "id": "MMhWUQYCOpuK",
        "outputId": "19ba37e2-a408-4d4f-9d11-e54c7c54b4a2"
      },
      "outputs": [
        {
          "data": {
            "text/plain": [
              "identifiers {\n",
              "  type: NAME\n",
              "  value: \"deoxyfluorination\"\n",
              "}"
            ]
          },
          "execution_count": 4,
          "metadata": {},
          "output_type": "execute_result"
        }
      ],
      "source": [
        "reaction.identifiers.add(value=r'deoxyfluorination', type='NAME')\n",
        "reaction"
      ]
    }
  ],
  "metadata": {
    "colab": {
      "collapsed_sections": [],
      "name": "example_template.ipynb",
      "provenance": []
    },
    "kernelspec": {
      "display_name": "Python 3",
      "language": "python",
      "name": "python3"
    },
    "language_info": {
      "codemirror_mode": {
        "name": "ipython",
        "version": 3
      },
      "file_extension": ".py",
      "mimetype": "text/x-python",
      "name": "python",
      "nbconvert_exporter": "python",
      "pygments_lexer": "ipython3",
      "version": "3.7.7"
    }
  },
  "nbformat": 4,
  "nbformat_minor": 1
}